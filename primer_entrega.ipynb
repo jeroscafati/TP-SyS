{
 "cells": [
  {
   "cell_type": "markdown",
   "metadata": {},
   "source": [
    "# Trabajo Practico - Desarrollo de software para el cálculo de parámetros acústicos ISO 3382 (1er entrega)\n",
    "\n",
    "## Fecha de entrega"
   ]
  },
  {
   "cell_type": "markdown",
   "metadata": {},
   "source": [
    "20 de mayo de 2025"
   ]
  },
  {
   "cell_type": "markdown",
   "metadata": {},
   "source": [
    "## Integrantes"
   ]
  },
  {
   "cell_type": "markdown",
   "metadata": {},
   "source": [
    "* <Florencia, Ferreyra>\n",
    "* <Jerónimo, Scafati>\n",
    "* <Lara, Molina>\n",
    "* <Stefano, Corzini>"
   ]
  },
  {
   "cell_type": "markdown",
   "metadata": {},
   "source": [
    "## Aspectos generales del notebook\n",
    "\n",
    "* Todas las funciones deben contar con su [docstring](https://realpython.com/documenting-python-code/#docstring-types), como figura en la funcion de ejemplo (`ruidoRosa_voss`).\n",
    "* Todos los gráficos deben tener correctamente etiquetados los ejes.\n",
    "* Enviar el notebook (.ipynb) (con las celdas ejecutas) y todos los archivos para reproducir los resultados por Slack.\n",
    "* Todas las señales de audio deben ser generadas en formato .wav en una función nueva."
   ]
  },
  {
   "cell_type": "markdown",
   "metadata": {},
   "source": [
    "## Librerias utilizadas\n",
    "Agregar todas las librerias utilizadas, algunas a modo de ejemplo:"
   ]
  },
  {
   "cell_type": "code",
   "execution_count": 2,
   "metadata": {},
   "outputs": [],
   "source": [
    "import numpy as np\n",
    "from matplotlib import pyplot as plt\n",
    "import pandas as pd\n",
    "import soundfile as sf\n",
    "import sounddevice as sd"
   ]
  },
  {
   "cell_type": "markdown",
   "metadata": {},
   "source": [
    "## Función de sintetización de ruido rosa\n",
    "El ruido rosa o ruido $\\frac{1}{\\sqrt{f}}$ , dónde $f$ denota frecuencia en Hz, es un ruido con una distribución de frecuencias tal que su densidad espectral de potencia es proporcional a la inversa de la frecuencia. Esto implica que su nivel, por bandas de tercio de octava, es constante. El nivel del ruido rosa por intervalo fijo de frecuencias va decayendo a razón de 3 dB/octava, de forma no lineal aunque las frecuencias se representan en un eje lineal.\n",
    "\n",
    "![Espectro del ruido rosa](../img/image44.png)\n",
    "<center><b>Fig 1.</b> Espectro del ruido rosa.</center>\n",
    "\n",
    "Se adjunta a continuación una función que devuelva un ruido rosa sintetizado a partir del algoritmo de Voss y Clarke (pueden encontrar mas informacion en [este enlace](https://www.dsprelated.com/showabstract/3933.php) y en [este notebook](https://github.com/AllenDowney/ThinkDSP/blob/master/code/voss.ipynb)). \n",
    "\n",
    "**Consigna:** modificar la función original para que reciba como parametro la duración del ruido en segundos $t$ y como parametro opcional la frecuencia de muestreo $fs$ (Ayuda: la longitud de la señal sera el producto entre ambos). La función debe guardar el archivo de audio .wav de la señal generada y devolver el vector de datos de la señal."
   ]
  },
  {
   "cell_type": "code",
   "execution_count": 2,
   "metadata": {},
   "outputs": [],
   "source": [
    "def ruidoRosa_voss_editado(t, fs=44100, ncols=16):\n",
    "    \"\"\"\n",
    "    Genera ruido rosa utilizando el algoritmo de Voss-McCartney.\n",
    "    El algoritmo genera ruido rosa mezclando varias fuentes de números aleatorios, pero no todas cambian al mismo tiempo. Algunas cambian muy rápido (alta frecuencia), otras más lentamente (baja frecuencia).\n",
    "    Así se logra que el resultado tenga más energía en bajas frecuencias, como el ruido rosa real.\n",
    "    \n",
    "    .. Nota:: si 'ruidoRosa.wav' existe, este será sobreescrito\n",
    "    \n",
    "    Parametros\n",
    "    ----------\n",
    "    t : float\n",
    "        Valor temporal en segundos, este determina la duración del ruido generado.\n",
    "    ncols: int\n",
    "        Determina el número de fuentes a aleatorias a agregar.\n",
    "    fs: int\n",
    "        Frecuencia de muestreo en Hz de la señal. Por defecto el valor es 44100 Hz.\n",
    "    \n",
    "    returns: NumPy array\n",
    "        Datos de la señal generada.\n",
    "    \n",
    "    Ejemplo\n",
    "    -------\n",
    "    Generar un `.wav` desde un numpy array de 10 segundos con ruido rosa a una \n",
    "    frecuencia de muestreo de 44100 Hz.\n",
    "    \n",
    "        import numpy as np\n",
    "        import pandas as pd\n",
    "        import soundfile as sf\n",
    "        \n",
    "        ruidoRosa_voss(10)\n",
    "    \"\"\"\n",
    "    \n",
    "    nrows = int(t * fs) # La longitud de la señal es el producto entre su duración en segundos, y cuántas muestras realiza por segundo (fs).\n",
    "\n",
    "    array = np.full((nrows, ncols), np.nan) # Se crea una tabla de tamaño nrows (tiempo) × ncols (número de generadores). Todo se llena con NaN inicialmente.\n",
    "    array[0, :] = np.random.random(ncols)\n",
    "    array[:, 0] = np.random.random(nrows)\n",
    "    \n",
    "    n = nrows \n",
    "    cols = np.random.geometric(0.5, n)\n",
    "    cols[cols >= ncols] = 0 \n",
    "    rows = np.random.randint(nrows, size=n)\n",
    "    array[rows, cols] = np.random.random(n) # En esas posiciones [row, col], coloca un nuevo número aleatorio. Algunas columnas se actualizarán más que otras, para generar el ruido rosa.\n",
    "    \n",
    "    df = pd.DataFrame(array)\n",
    "    filled = df.fillna(method='ffill', axis=0)\n",
    "    total = filled.sum(axis=1) # Suma todas las filas, así se obtiene un vector de con el ruido rosa (de más a menos energía en frecuencias).\n",
    "    \n",
    "    ## Centrado de el array en 0\n",
    "    total = total - total.mean() \n",
    "    \n",
    "    ## Normalizado\n",
    "    valor_max = max(abs(max(total)),abs(min(total)))\n",
    "    total = total / valor_max\n",
    "    \n",
    "    sf.write('RuidoRosa.wav', total, fs)\n",
    "    \n",
    "    return total"
   ]
  },
  {
   "cell_type": "markdown",
   "metadata": {
    "tags": []
   },
   "source": [
    "Llamar la función."
   ]
  },
  {
   "cell_type": "code",
   "execution_count": 3,
   "metadata": {
    "tags": []
   },
   "outputs": [
    {
     "name": "stderr",
     "output_type": "stream",
     "text": [
      "/tmp/ipykernel_23821/1328531241.py:46: FutureWarning: DataFrame.fillna with 'method' is deprecated and will raise in a future version. Use obj.ffill() or obj.bfill() instead.\n",
      "  filled = df.fillna(method='ffill', axis=0)\n"
     ]
    },
    {
     "data": {
      "text/plain": [
       "0        -0.209535\n",
       "1        -0.440375\n",
       "2        -0.417201\n",
       "3        -0.349063\n",
       "4        -0.374530\n",
       "            ...   \n",
       "440995   -0.138348\n",
       "440996    0.182265\n",
       "440997   -0.090976\n",
       "440998   -0.064664\n",
       "440999    0.006178\n",
       "Length: 441000, dtype: float64"
      ]
     },
     "execution_count": 3,
     "metadata": {},
     "output_type": "execute_result"
    }
   ],
   "source": [
    "ruidoRosa_voss_editado(10)"
   ]
  },
  {
   "cell_type": "markdown",
   "metadata": {
    "tags": []
   },
   "source": [
    "Realizar una función para visualizar el dominio temporal de la señal."
   ]
  },
  {
   "cell_type": "code",
   "execution_count": 4,
   "metadata": {
    "tags": []
   },
   "outputs": [],
   "source": [
    "def graficar_dominio_temporal(t, signal):\n",
    "    \"\"\"\n",
    "    Grafica el dominio temporal de la señal\n",
    "    \n",
    "    Parámetros\n",
    "    ----------\n",
    "    señal : array\n",
    "        Señal a graficar.\n",
    "    fs : int\n",
    "        Frecuencia de muestreo de la señal. Por defecto es 44100 Hz.\n",
    "    \n",
    "    returns: None\n",
    "        Grafica la señal en el dominio temporal.\n",
    "    \n",
    "    Ejemplo\n",
    "    -------\n",
    "    Graficar el dominio temporal de una señal de ruido rosa.\n",
    "    \n",
    "        import numpy as np\n",
    "        import matplotlib.pyplot as plt\n",
    "\n",
    "        graficar_dominio_temporal(ruidoRosa_voss(10))\n",
    "    \"\"\"\n",
    "    plt.figure(figsize=(10, 4))\n",
    "    plt.plot(t, signal, color='m')\n",
    "    plt.title('Señal en el dominio temporal')\n",
    "    plt.xlabel('Tiempo [s]')\n",
    "    plt.ylabel('Amplitud')\n",
    "    plt.grid(True)\n",
    "    plt.show()\n",
    "    return None"
   ]
  },
  {
   "cell_type": "markdown",
   "metadata": {},
   "source": [
    "Llamar a la función."
   ]
  },
  {
   "cell_type": "code",
   "execution_count": 5,
   "metadata": {},
   "outputs": [
    {
     "name": "stderr",
     "output_type": "stream",
     "text": [
      "/tmp/ipykernel_23821/1328531241.py:46: FutureWarning: DataFrame.fillna with 'method' is deprecated and will raise in a future version. Use obj.ffill() or obj.bfill() instead.\n",
      "  filled = df.fillna(method='ffill', axis=0)\n"
     ]
    },
    {
     "data": {
      "image/png": "[encoded data removed]",
      "text/plain": [
       "<Figure size 1000x400 with 1 Axes>"
      ]
     },
     "metadata": {},
     "output_type": "display_data"
    }
   ],
   "source": [
    "fs = 44100\n",
    "signal = ruidoRosa_voss_editado(10)\n",
    "t = np.arange(0, len(signal))/fs # Vector de tiempo\n",
    "\n",
    "graficar_dominio_temporal(t, signal)"
   ]
  },
  {
   "cell_type": "markdown",
   "metadata": {},
   "source": [
    "Graficar el dominio espectral del resultado utilizando el [software Audacity](https://www.audacityteam.org/) (Ayuda: [Plot Spectrum Audacity](https://manual.audacityteam.org/man/plot_spectrum.html))"
   ]
  },
  {
   "cell_type": "markdown",
   "metadata": {},
   "source": [
    "![Espectro del ruido rosa](img/ruidorosa_frecuencias.jpg)\n",
    "\n",
    "*Espectro de frecuencias del ruido rosa*"
   ]
  },
  {
   "cell_type": "markdown",
   "metadata": {},
   "source": [
    "Reproducir resultado."
   ]
  },
  {
   "cell_type": "code",
   "execution_count": 6,
   "metadata": {
    "tags": []
   },
   "outputs": [],
   "source": [
    "sd.play(signal, fs)\n",
    "sd.wait()"
   ]
  },
  {
   "cell_type": "markdown",
   "metadata": {},
   "source": [
    "> Solo a modo de comentario, un **método alternativo** es utilizando un filtro en el siguiente [link](https://ccrma.stanford.edu/~jos/sasp/Example_Synthesis_1_F_Noise.html) se presenta la implementación en Matlab/Octave."
   ]
  },
  {
   "cell_type": "markdown",
   "metadata": {},
   "source": [
    "## Funcion de generación de sine sweep logaritmico + filtro inverso\n",
    "El sine sweep es el método más indicado para generar el impulso por medio de la convolución (Nikolić, I., and O. H. Bjor, 2003). Dado que métodos tales como: explosión de globo, aplauso, disparo con pistola se salva, paper gun ([Paper Popper](https://en.wikipedia.org/wiki/Paper_popper)), golpe entre maderas, petardos, entre otros, carecen de reproducibilidad. Esto es debido a su nivel sonoro, duración y características espectrales, además de una muy baja relación señal ruido, la cual difícilmente se solucione filtrando o promediando con muchas mediciones. Comencemos por ver cómo generar el sine sweep logarítmico $x(t)$ que posee la siguiente forma:\n",
    "\n",
    "\\begin{equation}\n",
    "f(x) = \\sin[\\theta(t)]= \\sin[K (e^\\frac{t}{L} - 1) ]\n",
    "\\tag{1}\n",
    "\\end{equation}\n",
    "\n",
    "Donde:\n",
    "\n",
    "\\begin{equation}\n",
    "K = \\frac{T w_{1}}{R}\n",
    "\\end{equation}\n",
    "\n",
    "\\begin{equation}\n",
    "L = \\frac{T}{R}\n",
    "\\end{equation}\n",
    "\n",
    "y el sweep rate $R$: \n",
    "\n",
    "\\begin{equation}\n",
    "R = \\ln \\left( \\frac{w_{2}}{w_{1}} \\right)\n",
    "\\tag{2}\n",
    "\\end{equation}\n",
    "\n",
    "Con $w_{1}$ y $w_{2}$, las frecuencias angulares inferior y superior respectivamente, $T$ es el tiempo de duración del sine sweep en segundos (Meng, Q., 2008). Si estudiamos el espectro de la señal de la ecuación (1), se observa que no es plano, sino que disminuye a razón de -3 dB/octava, como el ruido rosa (Ver fig. 2, sup). De modo que el espectro de $x(-t)$ debe ser ajustado, aumentando en 3 dB/octava, de modo que cuando realizamos el cálculo se restaure la plenitud perfecta de la respuesta de impulso medida $h(t)$ (Farina A., 2000) (Ver fig. 2, inf).\n",
    "\n",
    "![](../img/image43.png)\n",
    "<center><b>Fig 2.</b> Espectro del sine sweep. Sine sweep logarítmico  (sup). Filtro invertido (inf).</center>\n",
    "\n",
    "\n",
    "En el dominio temporal las señales del sine sweep logarítmico y el filtro inverso se comportan de la siguiente manera (Ver fig. 3). \n",
    "\n",
    "![](../img/image46.png)\n",
    "<center><b>Fig 3.</b> Magnitud del sine sweep. Sine sweep logarítmico (sup). Filtro invertido (inf).</center>"
   ]
  },
  {
   "cell_type": "markdown",
   "metadata": {},
   "source": [
    "Para generar el filtro inverso $k(t)$ del sine sweep logarítmico $x(t)$ se requiere de una modulación $m(t)$ definida por la siguiente expresión:\n",
    "\n",
    "\\begin{equation}\n",
    "m(t) = \\frac{w_{1}}{2\\pi w(t)}\n",
    "\\tag{3}\n",
    "\\end{equation}\n",
    "\n",
    "Obtenida de la frecuencia instantánea (dado que la amplitud cambia en función de la\n",
    "frecuencia), calculada a partir de la ecuación (1):\n",
    "\n",
    "\\begin{equation}\n",
    "w(t)=\\frac{d[\\theta (t)]}{dt}=\\frac{K}{L} e^\\frac{t}{L}\n",
    "\\tag{4}\n",
    "\\end{equation}\n",
    "m\n",
    "entonces, el filtro inverso $k(t)$ queda definido como:\n",
    "\n",
    "\\begin{equation}\n",
    "k(t)=m(t)x(-t)\n",
    "\\tag{5}\n",
    "\\end{equation}\n",
    "\n",
    "**Consigna:** realizar una función generadora de un sine sweep y su filtro inverso, a partir de las ecuaciones descriptas anteriormente, y graficar el resultado de ambos filtros, usando la función anteriormente creada. Recordar almacenar los audios. Agregar docstring que indique claramente los parametros de entrada y salida."
   ]
  },
  {
   "cell_type": "code",
   "execution_count": 3,
   "metadata": {
    "tags": []
   },
   "outputs": [],
   "source": [
    "def generar_sweep(duracion,fs=44100 ,f_inferior=20 ,f_superior=20000):\n",
    "    \"\"\"\n",
    "    Genera un barrido logarítmico de frecuencias (sine sweep) entre f_inferior y f_superior.\n",
    "\n",
    "    Parámetros\n",
    "    ----------\n",
    "    duracion : float\n",
    "        Duración del barrido en segundos.\n",
    "    fs : int, opcional\n",
    "        Frecuencia de muestreo en Hz. Por defecto es 44100 Hz.\n",
    "    f_inferior : float, opcional\n",
    "        Frecuencia inferior del barrido en Hz. Por defecto es 20 Hz.\n",
    "    f_superior : float, opcional\n",
    "        Frecuencia superior del barrido en Hz. Por defecto es 20000 Hz.\n",
    "\n",
    "    Returns\n",
    "    -------\n",
    "    sweep : np.ndarray\n",
    "        Señal generada del barrido logarítmico normalizada.\n",
    "    fs : int\n",
    "        Frecuencia de muestreo utilizada.\n",
    "\n",
    "    Ejemplo\n",
    "    -------\n",
    "    Generar un barrido logarítmico de frecuencias entre 20 Hz y 20000 Hz durante 10 segundos:\n",
    "\n",
    "        sweep, fs = generar_sweep(10)\n",
    "    \"\"\"\n",
    "    R = np.log(f_superior/f_inferior)\n",
    "    muestras = int(duracion * fs)\n",
    "    L = duracion/R\n",
    "    K = L * 2 * np.pi * f_inferior\n",
    "\n",
    "    #Generacion de vectores con numpy\n",
    "    t = np.linspace(0, duracion, muestras, endpoint=False)\n",
    "    sweep = np.sin(K * (np.exp(t/L) - 1 ))\n",
    "\n",
    "    # Normalización, para evitar saturacion al reproducir\n",
    "    sweep /= np.max(np.abs(sweep))\n",
    "\n",
    "    # Guardar el barrido en un archivo WAV\n",
    "    sf.write('sweep.wav', sweep, fs)\n",
    "\n",
    "    return sweep\n",
    "\n",
    "def generar_inverseSweep(duracion, fs=44100, f_inferior=20, f_superior=20000):\n",
    "    \"\"\"\n",
    "    Genera un barrido logarítmico inverso de frecuencias (inverse sine sweep) entre f_inferior y f_superior.\n",
    "\n",
    "    Parámetros\n",
    "    ----------\n",
    "    duracion : float\n",
    "        Duración del barrido en segundos.\n",
    "    fs : int, opcional\n",
    "        Frecuencia de muestreo en Hz. Por defecto es 44100 Hz.\n",
    "    f_inferior : float, opcional\n",
    "        Frecuencia inferior del barrido en Hz. Por defecto es 20 Hz.\n",
    "    f_superior : float, opcional\n",
    "        Frecuencia superior del barrido en Hz. Por defecto es 20000 Hz.\n",
    "\n",
    "    Returns\n",
    "    -------\n",
    "    inverse_sweep : np.ndarray\n",
    "        Señal generada del barrido logarítmico inverso normalizada.\n",
    "    fs : int\n",
    "        Frecuencia de muestreo utilizada.\n",
    "\n",
    "    Ejemplo\n",
    "    -------\n",
    "    Generar un barrido logarítmico inverso de frecuencias entre 20 Hz y 20000 Hz durante 10 segundos:\n",
    "\n",
    "        inverse_sweep, fs = generar_inverseSweep(10)\n",
    "    \"\"\"\n",
    "    \n",
    "    R = np.log(f_superior/f_inferior)\n",
    "    muestras = int(duracion * fs)\n",
    "    L = duracion/R\n",
    "    K = L * 2 * np.pi * f_superior\n",
    "\n",
    "    #Generacion de vectores con numpy\n",
    "    t = np.linspace(0, duracion, muestras, endpoint=False)\n",
    "    m_t = f_inferior/(K/L *(np.exp(-t/L)))\n",
    "    x_t = np.sin(K * (np.exp(t/L) - 1 ))\n",
    "    inverse_sweep = m_t* x_t[::-1]\n",
    "\n",
    "    # Normalización, para evitar saturacion al reproducir\n",
    "    inverse_sweep /= np.max(np.abs(inverse_sweep))\n",
    "\n",
    "    # Guardar el barrido en un archivo WAV\n",
    "    sf.write('inverse_sweep.wav', inverse_sweep, fs)\n",
    "\n",
    "    return inverse_sweep\n"
   ]
  },
  {
   "cell_type": "markdown",
   "metadata": {
    "tags": []
   },
   "source": [
    "Llamar la función."
   ]
  },
  {
   "cell_type": "code",
   "execution_count": 8,
   "metadata": {
    "tags": []
   },
   "outputs": [],
   "source": [
    "sweep = generar_sweep(10)     \n",
    "inv_sweep = generar_inverseSweep(10)"
   ]
  },
  {
   "cell_type": "markdown",
   "metadata": {},
   "source": [
    "Graficar el dominio espectral del resultado utilizando el [software Audacity](https://www.audacityteam.org/) (Ayuda: [Plot Spectrum Audacity](https://manual.audacityteam.org/man/plot_spectrum.html))"
   ]
  },
  {
   "cell_type": "markdown",
   "metadata": {},
   "source": [
    "![Espectro sine sweep](img/sweep_frecuencias.jpg)\n",
    "\n",
    "*Espectro de frecuencias del Sine Sweep*\n",
    "\n",
    "![Espectro invert sweep](img/inversesweep_frecuencias.jpg)\n",
    "\n",
    "*Espectro de frecuencias del filtro invertido*"
   ]
  },
  {
   "cell_type": "markdown",
   "metadata": {},
   "source": [
    "Reproducir resultados."
   ]
  },
  {
   "cell_type": "code",
   "execution_count": 9,
   "metadata": {
    "tags": []
   },
   "outputs": [],
   "source": [
    "sd.play(sweep, fs)\n",
    "sd.wait()\n",
    "\n",
    "sd.play(inv_sweep, fs)\n",
    "sd.wait()"
   ]
  },
  {
   "cell_type": "markdown",
   "metadata": {},
   "source": [
    "## Función adquisicion y reproducción\n",
    "**Consigna**: la función tiene que permitir la reproducción y la adquisición de manera simultánea para un tiempo determinado por el usuario. Es importante evaluar y constatar dicha simultaneidad. El módulo debería permitir seleccionar el hardware a utilizar. Algunos articulos de interes para el desarrollo:\n",
    "* [Clase de audio](../../clases/clase_6/600_audio.ipynb)\n",
    "* [Sound Device - Simultaneous Playback and Recording](https://python-sounddevice.readthedocs.io/en/0.4.1/usage.html#simultaneous-playback-and-recording)\n",
    "* [Playing and Recording Sound in Python](https://realpython.com/playing-and-recording-sound-python/)\n",
    "* [Audio in Python](https://wiki.python.org/moin/Audio/)\n",
    "* [https://github.com/spatialaudio/python-sounddevice/issues/148](https://github.com/spatialaudio/python-sounddevice/issues/148)"
   ]
  },
  {
   "cell_type": "code",
   "execution_count": 5,
   "metadata": {
    "tags": []
   },
   "outputs": [],
   "source": [
    "def grabar_reproducir(signal,fs=44100):\n",
    "    \"\"\"\n",
    "    Reproduce una señal de audio y graba simultáneamente desde el dispositivo seleccionado.\n",
    "\n",
    "    Parámetros\n",
    "    ----------\n",
    "    signal : np.ndarray\n",
    "        Array 1D con la señal de audio a reproducir.\n",
    "    fs : int, opcional\n",
    "        Frecuencia de muestreo en Hz. Por defecto es 44100 Hz.\n",
    "\n",
    "    Returns\n",
    "    --------\n",
    "    None\n",
    "        La función guarda directamente el archivo de grabación con nombre \"grabacion.wav\".\n",
    "\n",
    "    \"\"\"\n",
    "    print(\"Dispositivos disponibles: \")\n",
    "    print(sd.query_devices()) # muestra los dispositivos disponibles\n",
    "\n",
    "    dispositivo = int(input(\"Ingrese número de dispositivo: \"))\n",
    "    sd.default.device = dispositivo # se usa el dispositivo seleccionado como default\n",
    "    sd.default.samplerate = fs # se determina la frecuncia de muestreo\n",
    "\n",
    "\n",
    "    grabacion = sd.playrec(signal, samplerate=fs, channels=1) # reproduzco y grabo a la vez\n",
    "    sd.wait()\n",
    "\n",
    "    sf.write(\"grabacion.wav\", grabacion, fs) #guardo la grabacion"
   ]
  },
  {
   "cell_type": "markdown",
   "metadata": {
    "tags": []
   },
   "source": [
    "Llamar la función."
   ]
  },
  {
   "cell_type": "code",
   "execution_count": 6,
   "metadata": {},
   "outputs": [
    {
     "name": "stdout",
     "output_type": "stream",
     "text": [
      "Dispositivos disponibles: \n",
      "   0 sof-hda-dsp: - (hw:0,0), ALSA (2 in, 2 out)\n",
      "   1 sof-hda-dsp: - (hw:0,3), ALSA (0 in, 2 out)\n",
      "   2 sof-hda-dsp: - (hw:0,4), ALSA (0 in, 2 out)\n",
      "   3 sof-hda-dsp: - (hw:0,5), ALSA (0 in, 2 out)\n",
      "   4 sof-hda-dsp: - (hw:0,6), ALSA (2 in, 0 out)\n",
      "   5 sof-hda-dsp: - (hw:0,7), ALSA (2 in, 0 out)\n",
      "   6 sysdefault, ALSA (128 in, 128 out)\n",
      "   7 samplerate, ALSA (128 in, 128 out)\n",
      "   8 speexrate, ALSA (128 in, 128 out)\n",
      "   9 pulse, ALSA (32 in, 32 out)\n",
      "  10 upmix, ALSA (8 in, 8 out)\n",
      "  11 vdownmix, ALSA (6 in, 6 out)\n",
      "  12 dmix, ALSA (0 in, 2 out)\n",
      "* 13 default, ALSA (32 in, 32 out)\n"
     ]
    }
   ],
   "source": [
    "t = 5\n",
    "signal = generar_sweep(t)\n",
    "grabar_reproducir(signal)"
   ]
  },
  {
   "cell_type": "markdown",
   "metadata": {},
   "source": [
    "¿Cómo se podría medir la latencia de la función? Agregar un gráfico."
   ]
  },
  {
   "cell_type": "code",
   "execution_count": 7,
   "metadata": {},
   "outputs": [],
   "source": [
    "def medir_latencia(fs=44100, duracion=1.0):\n",
    "    \"\"\"\n",
    "    Mide la latencia de reproducción y grabación de la función playrec de sounddevice.\n",
    "    Se reproduce un impulso y se graba la señal de salida. Luego, se calcula la latencia.\n",
    "\n",
    "    Parámetros\n",
    "    ----------\n",
    "    fs : int\n",
    "        Frecuencia de muestreo en Hz. Por defecto es 44100 Hz.\n",
    "    duracion : float\n",
    "        Duración de la señal en segundos. Por defecto es 1 segundo.\n",
    "    \n",
    "    Returns\n",
    "    -------     \n",
    "    latencia_ms : float\n",
    "        Latencia estimada en milisegundos.\n",
    "    \"\"\"\n",
    "    # Crear un pulso (impulso en el tiempo)\n",
    "    signal = np.zeros(int(fs * duracion))\n",
    "    signal[100] = 1.0  # Impulso en la muestra 100\n",
    "    signal = signal.reshape(-1, 1)  # Asegura forma (N, 1) para mono\n",
    "\n",
    "    print(\"Reproduciendo y grabando...\")\n",
    "    grabacion = sd.playrec(signal, samplerate=fs, channels=1)\n",
    "    sd.wait()\n",
    "\n",
    "    # Procesamiento para encontrar la latencia\n",
    "    grabado = grabacion.flatten()\n",
    "    impulso_original = 100\n",
    "\n",
    "    # Buscar el pico más grande en la grabación\n",
    "    pico_grabado = np.argmax(np.abs(grabado))\n",
    "\n",
    "    desfase_muestras = pico_grabado - impulso_original\n",
    "    latencia_ms = (desfase_muestras / fs) * 1000\n",
    "\n",
    "    print(f\"Desfase: {desfase_muestras} muestras\")\n",
    "    print(f\"Latencia estimada: {latencia_ms:.2f} ms\")\n",
    "\n",
    "    return latencia_ms"
   ]
  }
 ],
 "metadata": {
  "kernelspec": {
   "display_name": "mi_env_py311",
   "language": "python",
   "name": "python3"
  },
  "language_info": {
   "codemirror_mode": {
    "name": "ipython",
    "version": 3
   },
   "file_extension": ".py",
   "mimetype": "text/x-python",
   "name": "python",
   "nbconvert_exporter": "python",
   "pygments_lexer": "ipython3",
   "version": "3.11.12"
  }
 },
 "nbformat": 4,
 "nbformat_minor": 4
}
