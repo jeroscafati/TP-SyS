{
 "cells": [
  {
   "cell_type": "markdown",
   "metadata": {},
   "source": [
    "# Trabajo Practico - Desarrollo de software para el cálculo de parámetros acústicos ISO 3382 (2da entrega)\n",
    "\n",
    "## Fecha de entrega"
   ]
  },
  {
   "cell_type": "markdown",
   "metadata": {},
   "source": [
    "*2 de Junio de 2025*"
   ]
  },
  {
   "cell_type": "markdown",
   "metadata": {},
   "source": [
    "## Integrantes"
   ]
  },
  {
   "cell_type": "markdown",
   "metadata": {},
   "source": [
    "* <Florencia, Ferreyra>\n",
    "* <Jerónimo, Scafati>\n",
    "* <Lara, Molina>\n",
    "* <Stefano, Corzini>"
   ]
  },
  {
   "cell_type": "markdown",
   "metadata": {},
   "source": [
    "## Aspectos generales del notebook\n",
    "\n",
    "* Todas las funciones deben contar con su [docstring](https://realpython.com/documenting-python-code/#docstring-types), como figura en la función de ejemplo (`ruidoRosa_voss`)(1er entrega).\n",
    "* Todos los gráficos deben tener correctamente etiquetados los ejes.\n",
    "* Enviar el notebook (.ipynb) (con las celdas ejecutas) y todos los archivos para reproducir los resultados por Slack.\n",
    "* Todas las señales de audio deben ser grabadas en formato .wav en la misma función que las genera."
   ]
  },
  {
   "cell_type": "markdown",
   "metadata": {},
   "source": [
    "## Librerias utilizadas\n",
    "Agregar todas las librerias utilizadas, algunas a modo de ejemplo:"
   ]
  },
  {
   "cell_type": "code",
   "execution_count": 2,
   "metadata": {},
   "outputs": [
    {
     "name": "stdout",
     "output_type": "stream",
     "text": [
      "CWD cambiado a → /home/cherry/Facur/Señales y Sistemas\n"
     ]
    }
   ],
   "source": [
    "import os, sys\n",
    "\n",
    "# 1. Calculo la ruta raíz del proyecto (un nivel arriba de notebooks/)\n",
    "cwd_actual = os.getcwd()  # por ejemplo: '/home/cherry/.../TP-SyS/notebooks'\n",
    "ruta_raiz = os.path.abspath(os.path.join(cwd_actual, \"..\"))  # '/home/cherry/.../TP-SyS'\n",
    "\n",
    "# 2. Cambio el directorio de trabajo a esa ruta raíz\n",
    "os.chdir(ruta_raiz)\n",
    "\n",
    "# 3. Añado ruta raíz a sys.path si no estuviera\n",
    "if ruta_raiz not in sys.path:\n",
    "    sys.path.insert(0, ruta_raiz)\n",
    "\n",
    "# 4. Verifico\n",
    "print(\"CWD cambiado a →\", os.getcwd())\n"
   ]
  },
  {
   "cell_type": "code",
   "execution_count": null,
   "metadata": {},
   "outputs": [],
   "source": [
    "import numpy as np\n",
    "from matplotlib import pyplot as plt\n",
    "import pandas as pd\n",
    "import soundfile as sf\n",
    "import sounddevice as sd\n",
    "from ipywidgets import Button\n",
    "from tkinter import Tk, filedialog\n",
    "from IPython.display import clear_output, display\n",
    "from scipy import signal\n",
    "from src.utils.graph import graficar_dominio_temporal"
   ]
  },
  {
   "cell_type": "markdown",
   "metadata": {},
   "source": [
    "## Descargar dataset\n",
    "El objetivo es tener archivos para validar el software creado , para lo cual es necesario contar con la información y los datos de la medición.\n",
    "\n",
    "### 1. Respuestas al impulso: \n",
    "**Consigna:** Descargar **al menos dos** respuestas al impulso (RI o en ingles IR, Impulse Responses) de dos recintos distintos del siguiente [link](https://www.openair.hosted.york.ac.uk/?page_id=36) y toda la información relevante de la medición, ademas de los resultados de los parametros acústicos calculados (para luego comparar). También se pueden usar los archivos dispuestos en el Drive de la asignatura. \n",
    "\n",
    "### 2. Sine sweep logarítmico + filtro inverso: \n",
    "**Consigna:** Descargar **al menos un** sine sweep con su respectivo filtro inverso. Una posibildiad es usar los archivos dispuestos en el GDrive de la asignatura. Para generar el filtro inverso usar la info brindada por el informe técnico en la misma carpeta de los archivos. "
   ]
  },
  {
   "cell_type": "markdown",
   "metadata": {},
   "source": [
    "## Función de carga de archivos de audio\n",
    "\n",
    "**Consigna:** realizar una función que permita cargar archivos de audio, en lo posible \\*.wav, por ejemplo los archivos anteriormente descargados. Contemplar el ingreso de más de un archivo de audio, por tipo."
   ]
  },
  {
   "cell_type": "markdown",
   "metadata": {},
   "source": [
    "Mostrar botón para seleccionar archivos"
   ]
  },
  {
   "cell_type": "code",
   "execution_count": null,
   "metadata": {},
   "outputs": [],
   "source": [
    "files = []\n",
    "def select_files(b,files=files):\n",
    "    clear_output()\n",
    "    root = Tk()\n",
    "    root.withdraw() # Hide the main window.\n",
    "    root.call('wm', 'attributes', '.', '-topmost', True) # Raise the root to the top of all windows.\n",
    "    files.extend(filedialog.askopenfilenames()) # List of selected files will be set button's file attribute.\n",
    "    print(files) # Print the list of files selected.\n",
    "\n",
    "fileselect = Button(description=\"Seleccione el archivo\")\n",
    "fileselect.on_click(select_files)\n",
    "\n",
    "display(fileselect)\n",
    "files"
   ]
  },
  {
   "cell_type": "markdown",
   "metadata": {},
   "source": [
    "Cargar y mostrar información de audio"
   ]
  },
  {
   "cell_type": "code",
   "execution_count": 30,
   "metadata": {},
   "outputs": [],
   "source": [
    "def cargar_audio(rutas_audios):\n",
    "    audios = {}\n",
    "    for ruta in rutas_audios:\n",
    "        data, fs = sf.read(ruta)\n",
    "        audios[ruta] = (data, fs)\n",
    "    for ruta, (datos, fs) in audios.items():\n",
    "        print(f\"Archivo: {ruta}\")\n",
    "        print(f\"  • Frecuencia de muestreo: {fs} Hz\")\n",
    "        print(f\"  • Número de muestras: {datos.shape[0]}\")\n",
    "        if datos.ndim > 1:\n",
    "            print(f\"  • Canales: {datos.shape[1]}\")\n",
    "        print(\"  ---------------------------\")\n",
    "    return audios\n",
    "\n"
   ]
  },
  {
   "cell_type": "markdown",
   "metadata": {},
   "source": [
    "Llamar a la función con uno de los ejemplos anteriormente descargados y usar la función de visualización de la 1er entrega."
   ]
  },
  {
   "cell_type": "code",
   "execution_count": 36,
   "metadata": {
    "tags": []
   },
   "outputs": [
    {
     "name": "stdout",
     "output_type": "stream",
     "text": [
      "Archivo: /home/cherry/Facur/Señales y Sistemas/TP-SyS/audios/clifford_tower_S1R1_Bformat.wav\n",
      "  • Frecuencia de muestreo: 48000 Hz\n",
      "  • Número de muestras: 96000\n",
      "  • Canales: 4\n",
      "  ---------------------------\n",
      "Archivo: /home/cherry/Facur/Señales y Sistemas/TP-SyS/audios/s1r2.wav\n",
      "  • Frecuencia de muestreo: 96000 Hz\n",
      "  • Número de muestras: 144000\n",
      "  • Canales: 4\n",
      "  ---------------------------\n"
     ]
    },
    {
     "data": {
      "image/png": "[encoded data removed]",
      "text/plain": [
       "<Figure size 1000x400 with 1 Axes>"
      ]
     },
     "metadata": {},
     "output_type": "display_data"
    },
    {
     "data": {
      "image/png": "[encoded data removed]",
      "text/plain": [
       "<Figure size 1000x400 with 1 Axes>"
      ]
     },
     "metadata": {},
     "output_type": "display_data"
    }
   ],
   "source": [
    "audios = cargar_audio(files)\n",
    "\n",
    "for datos, fs in audios.values():\n",
    "    t = np.arange(datos.shape[0]) / fs\n",
    "    graficar_dominio_temporal(t,datos)\n"
   ]
  },
  {
   "cell_type": "markdown",
   "metadata": {},
   "source": [
    "## Función de sintetización de respuesta al impulso\n",
    "\n",
    "**Consigna:** realizar una función para sintetizar una respuesta al impulso. La misma recibira como parametro el $T60$ que se desea obtener, y deberá sintetizar una respuesta al impulso considerando las frecuencias centrales de banda de octava y tercio de octava como establece la norma IEC61260 (IEC61260,1995). La siguiente ecuación define una RI, para una frecuencia central $f_{i}$:\n",
    "\n",
    "\\begin{equation}\n",
    "y_{i}=A_{i}e^{-\\tau_it}\\cos(2πf_{i}t)\n",
    "\\tag{6}\n",
    "\\end{equation}\n",
    "\n",
    "donde $A_{i}$ es el coeficiente de amplitud para esa $f_{i}$(puede ser 1), y  $π_{i}$ define el decaimiento exponencial en función de $T_{60_i}$ (tiempo de reverberación) para una frecuencia $f_{i}$.\n",
    "\n",
    "\\begin{equation}\n",
    "\\tau_i=-\\frac{ln(10^{-3})}{T_{60_i}}\n",
    "\\tag{7}\n",
    "\\end{equation}\n",
    "\n",
    "La suma de varias frecuencias centrales $f_{i}$ se define como:\n",
    "\\begin{equation}\n",
    "  y=\\sum_{y=1}^{n}y_{i}\n",
    "\\tag{8}\n",
    "\\end{equation}\n",
    "\n",
    "Con $n$ la cantidad de frecuencias centrales $f_{i}$ del filtro. La funcion debe recibir el tiempo de reverberacion para cada frecuencia, y devolver la respuesta al impulso correspondiente como un archivo de audio .wav. Al momento de definir la función, buscar la forma de que la misma permita varios $T60_i$ para cada frecuencia. \n",
    "\n",
    "> Con esta funcion se busca obtener un archivo de audio de valores de $T60_i$ conocidos que permita probar el software."
   ]
  },
  {
   "cell_type": "markdown",
   "metadata": {},
   "source": [
    "Llamar a la función con un vector que contega varios $T60$ para las cada frecuencias centrales $f_{i}$."
   ]
  },
  {
   "cell_type": "code",
   "execution_count": null,
   "metadata": {
    "tags": []
   },
   "outputs": [],
   "source": [
    "def ri_sintetizada(frecuencias: dict,fs=44100):\n",
    "    \"\"\"\n",
    "    Genera una respuesta al impulso sintetizada a partir de un diccionario\n",
    "    de frecuencias centrales y sus respectivos (T60, Amplitud).\n",
    "\n",
    "    Parámetros\n",
    "    ----------\n",
    "    frecuencias : dict\n",
    "        Clave = frecuencia central (Hz).\n",
    "        Valor = tupla (T60_en_segundos, Amplitud).\n",
    "    fs : int\n",
    "        Frecuencia de muestreo (por defecto 44100 Hz).\n",
    "\n",
    "    Retorna\n",
    "    -------\n",
    "    ri_sintetizada : ndarray (1D)\n",
    "        Vector con las muestras de la RI normalizada en [-1, 1].\n",
    "    \"\"\"\n",
    "    # Definimos duracion de RI 20% mayor a T60 por banda mas grande\n",
    "    t60max = max(v[0] for v in frecuencias.values())\n",
    "    segundos = 1.2 * t60max\n",
    "    # Crear un vector de tiempo para la RI sintetizada\n",
    "    t = np.arange(0, segundos, 1/fs)  \n",
    "    \n",
    "    # Inicializar la RI sintetizada\n",
    "    ri_sintetizada = np.zeros_like(t)\n",
    "    factor = 3 * np.log(10)\n",
    "\n",
    "    for freq, (t60, A) in frecuencias.items():\n",
    "        tau_i = factor/ t60\n",
    "        ri_sintetizada += A* np.exp(-tau_i * t) * np.cos(2 * np.pi * freq * t)\n",
    "       \n",
    "    ri_sintetizada /= np.max(np.abs(ri_sintetizada))\n",
    "    ri_int16 = (ri_sintetizada * 32767).astype(np.int16)\n",
    "    sf.write('./audios/ri_sintetizada.wav', ri_int16, fs)\n",
    "    return ri_sintetizada"
   ]
  },
  {
   "cell_type": "code",
   "execution_count": null,
   "metadata": {},
   "outputs": [],
   "source": [
    "# Dict con frecuencias centrales de octava con sus respectivos T60 y Amplitudes,elegidaas al azar\n",
    "freq_t60 = {31.5: (2.0,1.0), 63:(3.0,1.0), \n",
    "            125:(4.8,1.0), 250:(5.7,1.0), \n",
    "            500: (3.5,1.0), 1000:(3.3,1.0), \n",
    "            2000: (4.1,1.0), 4000: (3.0,1.0), \n",
    "            8000: (5.8,1.0), 16000: (2.5,1.0)}\n",
    "ri_generada = ri_sintetizada(freq_t60)"
   ]
  },
  {
   "cell_type": "markdown",
   "metadata": {},
   "source": [
    "Llamar la función de visualizar el dominio temporal, de la entrega anterior."
   ]
  },
  {
   "cell_type": "code",
   "execution_count": 50,
   "metadata": {},
   "outputs": [
    {
     "data": {
      "image/png": "[encoded data removed]",
      "text/plain": [
       "<Figure size 1000x400 with 1 Axes>"
      ]
     },
     "metadata": {},
     "output_type": "display_data"
    }
   ],
   "source": [
    "t = np.arange(len(ri_generada)) / 44100\n",
    "graficar_dominio_temporal(t,ri_generada)"
   ]
  },
  {
   "cell_type": "markdown",
   "metadata": {},
   "source": [
    "Graficar el dominio espectral del resultado utilizando el [software Audacity](https://www.audacityteam.org/) (Ayuda: [Plot Spectrum Audacity](https://manual.audacityteam.org/man/plot_spectrum.html))"
   ]
  },
  {
   "cell_type": "code",
   "execution_count": null,
   "metadata": {
    "tags": []
   },
   "outputs": [],
   "source": [
    "# completar"
   ]
  },
  {
   "cell_type": "markdown",
   "metadata": {
    "tags": []
   },
   "source": [
    "Reproducir señal resultante."
   ]
  },
  {
   "cell_type": "code",
   "execution_count": null,
   "metadata": {
    "tags": []
   },
   "outputs": [],
   "source": [
    "sd.play(ri_generada,44100)\n",
    "sd.wait()"
   ]
  },
  {
   "cell_type": "markdown",
   "metadata": {},
   "source": [
    "Comentar sobre el resultado obtenido, ¿Es una buena aproximación? ¿Qué aspectos estamos dejando de lado en esta sintetización, que en un caso real estan presentes?."
   ]
  },
  {
   "cell_type": "markdown",
   "metadata": {
    "tags": []
   },
   "source": [
    "*completar*"
   ]
  },
  {
   "cell_type": "markdown",
   "metadata": {},
   "source": [
    "## Función obtener respuesta al impulso\n",
    "\n",
    "**Consigna:** realizar una función que permita obtener la respuesta al impulso en formato de señal de audio .wav, a partir del sinesweep logarítmico grabado y el filtro inverso generado utilizando el siguiente método: \n",
    "\n",
    "Supongamos que un recinto es excitado por una señal sinesweep logarítmica $x(t)$ y captada por un micrófono $y(t)$ y buscamos la RI del recinto $h(t)$, lo anterior se expresa de la siguiente manera:\n",
    "\n",
    "\\begin{equation}\n",
    "y(t)=x(t)*h(t)\n",
    "\\tag{9}\n",
    "\\end{equation}\n",
    "\n",
    "Para un sine sweep lineal (que no es nuestro caso) el problema es sencillo, pero en nuestro caso (sine sweep logarítmico) requiere trabajar un poco respecto $x(t)$ para obtener la siguiente expresión:\n",
    "\n",
    "\\begin{equation}\n",
    "h(t) = F^{-1}[H(jw)]=F^{-1}[Y(jw)K(jw)]\n",
    "\\tag{10}\n",
    "\\end{equation}\n",
    "\n",
    "Recordar que $k(t)$ es el filtro inverso (ecu.5) y $K(jw)$ su respectiva transformada de fourier. De esta manera se obtiene la respuesta al impulso buscada.\n",
    "\n",
    "> El desarrollo matemático de la anterior expresión se encuentra en el [Anexo I - Obtener la respuesta al impulso a partir de un sine sweep](../consigna_TP_matlab.pdf) (p.14) del instructivo para Matlab del TP."
   ]
  },
  {
   "cell_type": "code",
   "execution_count": null,
   "metadata": {
    "tags": []
   },
   "outputs": [],
   "source": [
    "# Para la siguiente entrega reemplazar por fftconvolve de scipy \n",
    "def ri_sweep(grabacion, filtro_inverso,filename=\"RI_sweep.wav\",fs=44100):\n",
    "    \"\"\"\n",
    "    Devuelve la respuesta al impulso h[n] = (grabacion * filtro_inverso) en el dominio del tiempo,\n",
    "    usando multiplicación de espectros (FFT).\n",
    "\n",
    "    Parámetros\n",
    "    ----------\n",
    "    grabacion : array_like (1D)\n",
    "        Arreglo de muestras de la señal grabada y[n] (por ejemplo, el sine‐sweep captado con micrófono).\n",
    "\n",
    "    filtro_inverso : array_like (1D)\n",
    "        Arreglo de muestras del filtro inverso k[n] que diseñaste para deconvolucionar el sine‐sweep.\n",
    "\n",
    "    Returns\n",
    "    -------\n",
    "    h : ndarray (1D)\n",
    "        Respuesta al impulso lineal h[n] = y[n] * k[n], de longitud len(grabacion) + len(filtro_inverso) - 1.\n",
    "        Es un array real (dtype float) con la RI normalizada\n",
    "\n",
    "    \"\"\"\n",
    "    # Longitud que debería tener la convolución lineal:\n",
    "    N_lineal = len(grabacion) + len(filtro_inverso) - 1\n",
    "    \n",
    "    # Elegimos N_FFT como la siguiente potencia de 2 mayor a N_lineal (por eficiencia).\n",
    "    \n",
    "    N_FFT = 1 << int(np.ceil(np.log2(N_lineal)))\n",
    "    \n",
    "    # FFT de ambas señales completando el tamaño a N_FFT \n",
    "    FFT_grab = np.fft.fft(grabacion,      n=N_FFT)\n",
    "    FFT_filt = np.fft.fft(filtro_inverso, n=N_FFT)\n",
    "    \n",
    "    RI = np.real(np.fft.ifft(FFT_grab * FFT_filt))\n",
    "    # Tomamos solo la parte relevante de la convolución\n",
    "    RI = RI[:N_lineal]  \n",
    "    # Normalizar la respuesta al impulso\n",
    "    RI /= np.max(np.abs(RI))\n",
    "    \n",
    "    # Exportamos como wav\n",
    "    sf.write(filename,RI, fs)\n",
    "\n",
    "    return RI"
   ]
  },
  {
   "cell_type": "markdown",
   "metadata": {},
   "source": [
    "Llamar a la función con un sine sweep y su respectivo filtro inverso creados con la función de la primer entrega (**no** los descargados)."
   ]
  },
  {
   "cell_type": "code",
   "execution_count": 65,
   "metadata": {
    "tags": []
   },
   "outputs": [],
   "source": [
    "sweep, fs1 = sf.read(\"TP-SyS/audios/sweep.wav\")\n",
    "inverse, fs2 = sf.read(\"TP-SyS/audios/inverse_sweep.wav\")\n",
    "\n",
    "ri_sweep_con_filtro = ri_sweep(sweep,inverse)"
   ]
  },
  {
   "cell_type": "markdown",
   "metadata": {
    "tags": []
   },
   "source": [
    "Visualizar la señal con la función creada en la primer entrega."
   ]
  },
  {
   "cell_type": "code",
   "execution_count": 66,
   "metadata": {
    "tags": []
   },
   "outputs": [
    {
     "data": {
      "image/png": "[encoded data removed]",
      "text/plain": [
       "<Figure size 1000x400 with 1 Axes>"
      ]
     },
     "metadata": {},
     "output_type": "display_data"
    }
   ],
   "source": [
    "t = np.arange(len(ri_sweep_con_filtro)) / 44100\n",
    "graficar_dominio_temporal(t,ri_sweep_con_filtro)"
   ]
  },
  {
   "cell_type": "markdown",
   "metadata": {
    "tags": []
   },
   "source": [
    "Reproducir señal resultante."
   ]
  },
  {
   "cell_type": "code",
   "execution_count": null,
   "metadata": {
    "tags": []
   },
   "outputs": [],
   "source": [
    "sd.play(ri_sweep_con_filtro,44100)\n",
    "sd.wait()"
   ]
  },
  {
   "cell_type": "markdown",
   "metadata": {},
   "source": [
    "Comentar sobre el resultado obtenido. ¿Qué es lo que se esta escuchando? Realizar el mismo procedimiento con la señal descargada y el filtro inverso generado (para dicho sine sweep)"
   ]
  },
  {
   "cell_type": "markdown",
   "metadata": {},
   "source": [
    "Se escucha un impulso en el segundo 10 del archivo, el mismo suena poco natural\n"
   ]
  },
  {
   "cell_type": "code",
   "execution_count": 1,
   "metadata": {},
   "outputs": [
    {
     "ename": "NameError",
     "evalue": "name 'sf' is not defined",
     "output_type": "error",
     "traceback": [
      "\u001b[31m---------------------------------------------------------------------------\u001b[39m",
      "\u001b[31mNameError\u001b[39m                                 Traceback (most recent call last)",
      "\u001b[36mCell\u001b[39m\u001b[36m \u001b[39m\u001b[32mIn[1]\u001b[39m\u001b[32m, line 1\u001b[39m\n\u001b[32m----> \u001b[39m\u001b[32m1\u001b[39m sweep,fs = \u001b[43msf\u001b[49m.read(\u001b[33m\"\u001b[39m\u001b[33maudios/sweep_aulaInformatica.wav\u001b[39m\u001b[33m\"\u001b[39m) \n\u001b[32m      2\u001b[39m h = sweep.shape[\u001b[32m0\u001b[39m]/fs\n\u001b[32m      3\u001b[39m inverse = generar_inverseSweep(h)\n",
      "\u001b[31mNameError\u001b[39m: name 'sf' is not defined"
     ]
    }
   ],
   "source": [
    "sweep,fs = sf.read(\"audios/sweep_aulaInformatica.wav\") \n",
    "h = sweep.shape[0]/fs\n",
    "inverse = generar_inverseSweep(h)\n",
    "ri_sweep_con_filtro = ri_sweep(sweep,inverse, filename=\"RI_aulaInformatica.wav\")"
   ]
  },
  {
   "cell_type": "code",
   "execution_count": null,
   "metadata": {},
   "outputs": [],
   "source": []
  },
  {
   "cell_type": "markdown",
   "metadata": {
    "tags": []
   },
   "source": [
    "*completar*"
   ]
  },
  {
   "cell_type": "markdown",
   "metadata": {},
   "source": [
    "Mencionar aspectos que diferencian los impulso generados en esta función, con los sintetizados."
   ]
  },
  {
   "cell_type": "markdown",
   "metadata": {
    "tags": []
   },
   "source": [
    "*completar*"
   ]
  },
  {
   "cell_type": "markdown",
   "metadata": {},
   "source": [
    "## Función filtros norma IEC61260\n",
    "\n",
    "**Consigna**: Realizar una función que filtre todas las señales en octavas y tercio de octava según la norma IEC61260, con el objetivo de calcular los parámetros acústicos discriminando las frecuencias. \n",
    "\n",
    "Para lo cual utilizar las funciones del modulo [signals de scipy](https://docs.scipy.org/doc/scipy/reference/signal.html). Se adjunta el código capaz de calcular los coeficientes del filtro y aplicarlos a una señal. La función debe completarse con el código necesario para que este proceso se repita para cada una de las frecuencias centrales determinadas en la norma. Así mismo, el primer argumento de la función [iirfilter](https://docs.scipy.org/doc/scipy/reference/generated/scipy.signal.iirfilter.html) determina el grado del filtro. Evaluar el valor del mismo para que la frecuencia central de la banda coincida con las especificadas en la norma.\n",
    "\n",
    "> Para ver una introducción breve a la implementación de filtros, usar el siguiente [documento](https://github.com/maxiyommi/signal-systems/blob/master/material_extra/Filtros/intro_filtros.ipynb)."
   ]
  },
  {
   "cell_type": "code",
   "execution_count": null,
   "metadata": {},
   "outputs": [],
   "source": [
    "def filtros_norma_IEC61260(audiodata, fs, tipo_filtro='octava', orden_filtro=4):\n",
    "    \"\"\"\n",
    "    Filtra una señal de audio en bandas de octava o tercio de octava según la norma IEC 61260.\n",
    "\n",
    "    Args:\n",
    "        audiodata (np.array): La señal de audio a filtrar.\n",
    "        fs (int): Frecuencia de muestreo de la señal de audio (Hz).\n",
    "        tipo_filtro (str): 'octava' para filtros de octava, 'tercio_octava' para tercios de octava.\n",
    "        orden_filtro (int): El grado del filtro IIR.\n",
    "\n",
    "    Returns:\n",
    "        dict: Un diccionario donde las claves son las frecuencias centrales (Hz)\n",
    "              y los valores son las señales de audio filtradas para esa banda.\n",
    "    \"\"\"\n",
    "\n",
    "    if tipo_filtro == 'octava':\n",
    "        G = 1.0 / 2.0\n",
    "        # Frecuencias centrales de octava\n",
    "        frecuencias_centrales = [31.5, 63, 125, 250, 500, 1000, 2000, 4000, 8000, 16000]\n",
    "    elif tipo_filtro == 'tercio_octava':\n",
    "        G = 1.0 / 6.0\n",
    "        # Frecuencias centrales de tercio de octava\n",
    "        frecuencias_centrales = [25, 31.5, 40, 50, 63, 80, 100, 125, 160, 200, 250,\n",
    "                                 315, 400, 500, 630, 800, 1000, 1250, 1600, 2000,\n",
    "                                 2500, 3150, 4000, 5000, 6300, 8000, 10000, 12500, 16000, 20000]\n",
    "    else:\n",
    "        raise ValueError(\"El tipo_filtro debe ser 'octava' o 'tercio_octava'\")\n",
    "\n",
    "    factor = np.power(2, G)\n",
    "    señales_filtradas = {}\n",
    "\n",
    "    print(f\"Filtrando con filtros de {tipo_filtro}s (Orden: {orden_filtro})...\")\n",
    "\n",
    "    for centerFrequency_Hz in frecuencias_centrales:\n",
    "        lowerCutoffFrequency_Hz = centerFrequency_Hz / factor\n",
    "        upperCutoffFrequency_Hz = centerFrequency_Hz * factor\n",
    "\n",
    "        sos = signal.iirfilter(orden_filtro,\n",
    "                               [lowerCutoffFrequency_Hz, upperCutoffFrequency_Hz],\n",
    "                               rs=60,\n",
    "                               btype='band',\n",
    "                               analog=False,\n",
    "                               ftype='butter', \n",
    "                               fs=fs,\n",
    "                               output='sos')\n",
    "\n",
    "        # Aplicando el filtro al audio\n",
    "        filt_signal = signal.sosfilt(sos, audiodata)\n",
    "        señales_filtradas[centerFrequency_Hz] = filt_signal\n",
    "        print(f\"  Filtrada banda de {centerFrequency_Hz} Hz (cortes: {lowerCutoffFrequency_Hz:.2f}-{upperCutoffFrequency_Hz:.2f} Hz)\")\n",
    "\n",
    "    return señales_filtradas"
   ]
  },
  {
   "cell_type": "markdown",
   "metadata": {},
   "source": [
    "Llamar a la función con alguna RI generada anteriormente."
   ]
  },
  {
   "cell_type": "code",
   "execution_count": null,
   "metadata": {
    "tags": []
   },
   "outputs": [],
   "source": [
    "audiodata, fs = sf.read(\"audios/ri_sintetizada.wav\")\n",
    "señales_octava = filtros_norma_IEC61260(audiodata, fs, tipo_filtro='octava', orden_filtro=4)"
   ]
  },
  {
   "cell_type": "markdown",
   "metadata": {},
   "source": [
    "Graficar el dominio espectral del resultado en una banda, utilizando el [software Audacity](https://www.audacityteam.org/) (Ayuda: [Plot Spectrum Audacity](https://manual.audacityteam.org/man/plot_spectrum.html))"
   ]
  },
  {
   "cell_type": "code",
   "execution_count": 43,
   "metadata": {
    "tags": []
   },
   "outputs": [],
   "source": [
    "# completar"
   ]
  },
  {
   "cell_type": "markdown",
   "metadata": {},
   "source": [
    "¿El resultado es el esperado? ¿Cumple con los requerimientos de la normativa?"
   ]
  },
  {
   "cell_type": "markdown",
   "metadata": {},
   "source": [
    "*completar*"
   ]
  },
  {
   "cell_type": "markdown",
   "metadata": {},
   "source": [
    "## Función conversión a escala logarítmica normalizada\n",
    "Para visualizar correctamente la señal es necesario realizar una función que convierta la respuesta al impulso en escala logarítmica, utilizando la siguiente expresión:\n",
    "\n",
    "\\begin{equation}\n",
    "    R(t) = 20\\log_{10}\\frac{A(t)}{A(t)_{max}}\n",
    "\\tag{11}\n",
    "\\end{equation}\n",
    "\n",
    "Donde $A(t)$ es la señal que deseamos transformar de escala. **Consigna:** crear una función que convierta a escala logarítmica la RI que ingresa y devuelva un array con la señal resultante."
   ]
  },
  {
   "cell_type": "code",
   "execution_count": null,
   "metadata": {},
   "outputs": [],
   "source": [
    "def escala_log(ri):\n",
    "    \"\"\"\n",
    "    Convierte la respuesta al impulso (ri) a escala logarítmica normalizada\n",
    "\n",
    "    parámetros:\n",
    "    ri (numpy array): señal de respuesta al impulso\n",
    "\n",
    "    retorna:\n",
    "    - r: (numpy array) señal transformada a escala logarítmica\n",
    "    \"\"\"\n",
    "\n",
    "    a_max = np.max(np.abs(ri)) \n",
    "    \n",
    "    # Calcular la señal en escala logarítmica\n",
    "    r = 20 * np.log10(np.abs(ri) / a_max) \n",
    "    \n",
    "    return r"
   ]
  },
  {
   "cell_type": "markdown",
   "metadata": {},
   "source": [
    "Llamar a la función con alguna de las señales generadas anteriormente."
   ]
  },
  {
   "cell_type": "code",
   "execution_count": null,
   "metadata": {
    "tags": []
   },
   "outputs": [],
   "source": [
    "log_1khz = escala_log(señales_octava[1000])"
   ]
  },
  {
   "cell_type": "markdown",
   "metadata": {
    "tags": []
   },
   "source": [
    "Visualizar la señal con la función creada en la primer entrega."
   ]
  },
  {
   "cell_type": "code",
   "execution_count": null,
   "metadata": {
    "tags": []
   },
   "outputs": [],
   "source": [
    "# completar"
   ]
  },
  {
   "cell_type": "markdown",
   "metadata": {},
   "source": [
    "### Informe preliminar (opcional)\n",
    "Realizar un informe preliminar en formato UNTREF para memorias cuatrimestrales (disponible en el Drive de la asignatura), utilizando la plataforma de dición de documentos [LaTeX](https://es.wikipedia.org/wiki/LaTeX). Respetar las siguientes consignas:\n",
    "1. Mencionar los detalles en el diseño de los scripts(con ayuda de diagramas de flujo o pseudocódigo) sin agregar código propiamente dicho.\n",
    "2. Describir el dataset seleccionado para probar el software.\n",
    "3. El informe debe reflejar la arquitectura del software desarrollado y los avances en la producción del mismo. Los datos que se informan tienen que ser relevantes y garantizar la reproducibilidad de los mismos. No ahondar en muchos detalles teóricos y definiciones(hacer uso de referencias),hacer más bien foco en la producción del software, su evaluación y su validación.\n",
    "4. El informe preliminar no debe exceder las 3 páginas. Respetar fecha de entrega.\n",
    "5. Respetar los siguientes porcentajes de contenido por sección(también determinan los grados de importancia)\n",
    "\n",
    "A modo ilustrastivo se muestra los porcentajes del contenido en los informes:\n",
    "\n",
    "| Resumen | Introducción | Marco teórico | Desarrollo experimental | Resultados | Conclusiones |\n",
    "| -- | -- | -- | -- | -- | --  |\n",
    "| 5% | 10% | 10% | 25% | 30% | 20% |\n",
    "\n",
    "> Más información en el siguiente [link](https://github.com/maxiyommi/signal-systems/tree/master/trabajo_practico#informe-t%C3%A9cnico)."
   ]
  }
 ],
 "metadata": {
  "kernelspec": {
   "display_name": "venv_general",
   "language": "python",
   "name": "python3"
  },
  "language_info": {
   "codemirror_mode": {
    "name": "ipython",
    "version": 3
   },
   "file_extension": ".py",
   "mimetype": "text/x-python",
   "name": "python",
   "nbconvert_exporter": "python",
   "pygments_lexer": "ipython3",
   "version": "3.12.3"
  }
 },
 "nbformat": 4,
 "nbformat_minor": 4
}
